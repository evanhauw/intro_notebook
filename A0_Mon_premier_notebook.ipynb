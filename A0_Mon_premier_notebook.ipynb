{
 "cells": [
  {
   "cell_type": "markdown",
   "metadata": {
    "id": "AihyuLW5Fa_N"
   },
   "source": [
    "# Objectif \n",
    "\n",
    "> Se familiariser avec les notebooks, sous Jupyter. \n",
    "\n"
   ]
  },
  {
   "cell_type": "markdown",
   "metadata": {
    "id": "MAVH4rX2GBA-"
   },
   "source": [
    "---\n",
    "## Activité 1\n",
    "* Enregistrer une copie de ce fichier sur votre disque dur ou clé USB ;\n",
    "* Exporter le script au format .py ou au format .ipynb. \n",
    "---"
   ]
  },
  {
   "cell_type": "markdown",
   "metadata": {
    "id": "6_5R-HNxGZ3T"
   },
   "source": [
    "---\n",
    "## Activité 2\n",
    " \n",
    " \n",
    "Exécuter les deux cellules suivantes du notebook.\n",
    "\n",
    "*Raccourci : pour exécuter une cellule, appuyer sur Shift + Enter ou Ctrl + Enter.*\n",
    "\n",
    "---\n",
    "\n",
    "\n",
    "\n",
    " "
   ]
  },
  {
   "cell_type": "code",
   "execution_count": 7,
   "metadata": {
    "colab": {
     "base_uri": "https://localhost:8080/"
    },
    "id": "Ns3_Ge4bGkdu",
    "outputId": "eb2c445e-d23a-48a1-a3de-a9acf7397dae"
   },
   "outputs": [
    {
     "name": "stdout",
     "output_type": "stream",
     "text": [
      "La valeur de c est c = 4\n"
     ]
    }
   ],
   "source": [
    "a = 2                                # création d'une variable a à laquelle est associée la valeur 2\n",
    "b = 3                                # création d'une variable b à laquelle est associée la valeur 3\n",
    "c = a * b - a                        # création d'une variable c\n",
    "print('La valeur de c est c =',c)    # affichage de texte et de la valeur de c"
   ]
  },
  {
   "cell_type": "markdown",
   "metadata": {
    "id": "KmmaBYlvHMd_"
   },
   "source": [
    "Pour travailler, on importe quasiment systématiquement les bibliothèques suivantes avec des alias pour simplifier leur usage :\n",
    "\n",
    "- le module `numpy` permet de faire un grand nombre de calculs (alias `np`).\n",
    "- le module `matplotlib.pyplot` sert à tracer des graphiques (alias `plt`).\n",
    "- le sous-module `random`de numpy permet de générer des nombres aléatoires (alias `rd`)."
   ]
  },
  {
   "cell_type": "code",
   "execution_count": 8,
   "metadata": {
    "id": "q1G2OsW9zvF_"
   },
   "outputs": [],
   "source": [
    "# Importation des bibliothèques les plus courantes avec les alias associés\n",
    "\n",
    "import numpy as np                          # pour la manipulation de tableaux de nombres\n",
    "import matplotlib.pyplot as plt             # pour les représentations graphiques\n",
    "import numpy.random as rd                   # pour les tirages aléatoires"
   ]
  },
  {
   "cell_type": "markdown",
   "metadata": {
    "id": "NrNGwu0TG_af"
   },
   "source": [
    "---\n",
    "## Activité 3\n",
    "\n",
    "Tracé de points expérimentaux : le code de la cellule suivante permet de tracer $y$ en fonction de $x$.\n",
    " \n",
    "\\begin{array}{|c|c|c|c|c|c|}\n",
    "\\hline x & 1 & 2 & 3 & 4 & 5\\\\\n",
    "\\hline y & 0.15 & 0.30 & 0.45 & 0.60 & 0.75 \\\\\n",
    "\\hline\n",
    "\\end{array}\n",
    "\n",
    "Modifiez-le pour que soient représentés les points $\\left(x^2,1/y\\right)$  sous forme de croix rouges, puis exécuter la cellule.\n",
    "\n",
    "*Indice : 'bo' = bleu 'b', cercles 'o'*\n",
    "\n",
    "---\n"
   ]
  },
  {
   "cell_type": "code",
   "execution_count": 9,
   "metadata": {
    "colab": {
     "base_uri": "https://localhost:8080/",
     "height": 299
    },
    "id": "TIPacrEzd7Mz",
    "outputId": "0ead8e1a-9145-4546-a8ab-c984c42aa172"
   },
   "outputs": [
    {
     "data": {
      "image/png": "[encoded data removed]",
      "text/plain": [
       "<Figure size 432x288 with 1 Axes>"
      ]
     },
     "metadata": {
      "needs_background": "light"
     },
     "output_type": "display_data"
    }
   ],
   "source": [
    "# Entrée des données expérimentales grâce à des numpy.array\n",
    "\n",
    "x = np.array([1, 2, 3, 4, 5])                             # valeurs de x (séparées par des virgules)\n",
    "y = np.array([0.15, 0.30, 0.45, 0.60, 0.75])              # valeurs de y associées\n",
    "\n",
    "# Tracé de y en fonction de x\n",
    "\n",
    "plt.plot(x**2, 1/y, 'bo')                                 # Tracé de y en fonction de x avec des cercles bleus\n",
    "plt.xlabel('x')                                           # Légene de l'axe des abscisses\n",
    "plt.ylabel('y')                                           # Légende de l'axe des ordonnées\n",
    "plt.title(r'Évolution de 1/y en fonction de $x^2$')       # Ajout du titre\n",
    "plt.show()"
   ]
  },
  {
   "cell_type": "markdown",
   "metadata": {
    "id": "H3hYox-iLFfw"
   },
   "source": [
    "---\n",
    "## Activité 4\n",
    " \n",
    "Écrire une cellule qui calcule un numpy array contenant les valeurs de la grandeur $z=2x-y^2+\\ln{x}$, puis en affiche la valeur.\n",
    "\n",
    "*Indice : avec`numpy`, la fonction logarithme népérien s'écrit `np.log(...)`. Comme les autres opérateurs mathématiques, elle agit simultanément sur tous les éléments de l'array.*\n",
    "\n",
    "---"
   ]
  },
  {
   "cell_type": "code",
   "execution_count": null,
   "metadata": {
    "colab": {
     "base_uri": "https://localhost:8080/"
    },
    "id": "dlUiCqeiLoJ3",
    "outputId": "5754b49a-07a2-4557-ae09-1d2ecbc6916e"
   },
   "outputs": [],
   "source": [
    "\n"
   ]
  },
  {
   "cell_type": "markdown",
   "metadata": {
    "id": "T_3dezjjuRJX"
   },
   "source": [
    "---\n",
    "\n",
    "## Activité 5\n",
    "\n",
    "Ajouter une cellule de texte après celle-ci, puis la compléter par un texte de votre choix, en utilisant la syntaxe Markdown.\n",
    "\n",
    "*Aide :* https://bit.ly/3a5u9Ja\n",
    "\n",
    "\n",
    "---"
   ]
  }
 ],
 "metadata": {
  "colab": {
   "collapsed_sections": [],
   "name": "A0 - Mon premier colab.ipynb",
   "provenance": []
  },
  "kernelspec": {
   "display_name": "Python 3",
   "language": "python",
   "name": "python3"
  },
  "language_info": {
   "codemirror_mode": {
    "name": "ipython",
    "version": 3
   },
   "file_extension": ".py",
   "mimetype": "text/x-python",
   "name": "python",
   "nbconvert_exporter": "python",
   "pygments_lexer": "ipython3",
   "version": "3.8.5"
  }
 },
 "nbformat": 4,
 "nbformat_minor": 1
}
